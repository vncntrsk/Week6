{
 "cells": [
  {
   "cell_type": "code",
   "execution_count": 357,
   "metadata": {},
   "outputs": [],
   "source": [
    "import keras\n",
    "from keras.datasets import mnist\n",
    "from keras.models import Sequential\n",
    "from keras.layers import Activation, Dense, Dropout\n",
    "from keras.utils import plot_model\n",
    "from matplotlib import pyplot as plt\n",
    "import numpy as np"
   ]
  },
  {
   "cell_type": "code",
   "execution_count": 40,
   "metadata": {},
   "outputs": [],
   "source": [
    "batch_size = 64\n",
    "num_classes = 10\n",
    "epochs = 30"
   ]
  },
  {
   "cell_type": "code",
   "execution_count": 41,
   "metadata": {},
   "outputs": [],
   "source": [
    "(X_train, y_train), (X_test, y_test) = mnist.load_data()"
   ]
  },
  {
   "cell_type": "code",
   "execution_count": 42,
   "metadata": {},
   "outputs": [
    {
     "name": "stdout",
     "output_type": "stream",
     "text": [
      "train samples: 60000\n",
      "test samples: 10000\n"
     ]
    }
   ],
   "source": [
    "X_train = X_train.reshape(60000, 784).astype('float32')\n",
    "X_test = X_test.reshape(10000, 784).astype('float32')\n",
    "X_train /= 255\n",
    "X_test /= 255\n",
    "print('train samples:' , X_train.shape[0])\n",
    "print('test samples:', X_test.shape[0])"
   ]
  },
  {
   "cell_type": "code",
   "execution_count": 43,
   "metadata": {},
   "outputs": [],
   "source": [
    "y_train = keras.utils.to_categorical(y_train, num_classes)\n",
    "y_test = keras.utils.to_categorical(y_test, num_classes)"
   ]
  },
  {
   "cell_type": "code",
   "execution_count": 358,
   "metadata": {},
   "outputs": [],
   "source": [
    "model = Sequential()\n",
    "model.add(Dense(num_classes, activation='sigmoid', input_shape=(784,)))\n",
    "model.add(Activation('relu'))\n",
    "model.add(Dense(num_classes, activation='softmax'))\n",
    "#model.add(Dropout(0.2))"
   ]
  },
  {
   "cell_type": "code",
   "execution_count": 354,
   "metadata": {},
   "outputs": [
    {
     "name": "stdout",
     "output_type": "stream",
     "text": [
      "_________________________________________________________________\n",
      "Layer (type)                 Output Shape              Param #   \n",
      "=================================================================\n",
      "dense_21 (Dense)             (None, 10)                7850      \n",
      "_________________________________________________________________\n",
      "activation_11 (Activation)   (None, 10)                0         \n",
      "_________________________________________________________________\n",
      "dense_22 (Dense)             (None, 10)                110       \n",
      "=================================================================\n",
      "Total params: 7,960\n",
      "Trainable params: 7,960\n",
      "Non-trainable params: 0\n",
      "_________________________________________________________________\n"
     ]
    }
   ],
   "source": [
    "model.summary()"
   ]
  },
  {
   "cell_type": "code",
   "execution_count": 359,
   "metadata": {},
   "outputs": [],
   "source": [
    "model.compile(loss='categorical_crossentropy',\n",
    "#    loss='mse',\n",
    "    optimizer='rmsprop',\n",
    "metrics=['accuracy'])"
   ]
  },
  {
   "cell_type": "code",
   "execution_count": 360,
   "metadata": {},
   "outputs": [
    {
     "name": "stdout",
     "output_type": "stream",
     "text": [
      "Train on 60000 samples, validate on 10000 samples\n",
      "Epoch 1/30\n",
      "60000/60000 [==============================] - 2s 36us/step - loss: 1.2183 - acc: 0.7476 - val_loss: 0.6916 - val_acc: 0.8743\n",
      "Epoch 2/30\n",
      "60000/60000 [==============================] - 2s 27us/step - loss: 0.5330 - acc: 0.8831 - val_loss: 0.4247 - val_acc: 0.8963\n",
      "Epoch 3/30\n",
      "60000/60000 [==============================] - 2s 28us/step - loss: 0.3919 - acc: 0.8962 - val_loss: 0.3545 - val_acc: 0.9032\n",
      "Epoch 4/30\n",
      "60000/60000 [==============================] - 2s 28us/step - loss: 0.3461 - acc: 0.9038 - val_loss: 0.3256 - val_acc: 0.9102\n",
      "Epoch 5/30\n",
      "60000/60000 [==============================] - 2s 27us/step - loss: 0.3218 - acc: 0.9092 - val_loss: 0.3091 - val_acc: 0.9143\n",
      "Epoch 6/30\n",
      "60000/60000 [==============================] - 2s 27us/step - loss: 0.3059 - acc: 0.9125 - val_loss: 0.2997 - val_acc: 0.9154\n",
      "Epoch 7/30\n",
      "60000/60000 [==============================] - 2s 27us/step - loss: 0.2938 - acc: 0.9154 - val_loss: 0.2903 - val_acc: 0.9166\n",
      "Epoch 8/30\n",
      "60000/60000 [==============================] - 2s 27us/step - loss: 0.2848 - acc: 0.9188 - val_loss: 0.2845 - val_acc: 0.9210\n",
      "Epoch 9/30\n",
      "60000/60000 [==============================] - 2s 33us/step - loss: 0.2768 - acc: 0.9208 - val_loss: 0.2776 - val_acc: 0.9231\n",
      "Epoch 10/30\n",
      "60000/60000 [==============================] - 3s 45us/step - loss: 0.2701 - acc: 0.9227 - val_loss: 0.2766 - val_acc: 0.9233\n",
      "Epoch 11/30\n",
      "60000/60000 [==============================] - 2s 38us/step - loss: 0.2645 - acc: 0.9243 - val_loss: 0.2769 - val_acc: 0.9216\n",
      "Epoch 12/30\n",
      "60000/60000 [==============================] - 2s 36us/step - loss: 0.2594 - acc: 0.9251 - val_loss: 0.2704 - val_acc: 0.9242\n",
      "Epoch 13/30\n",
      "60000/60000 [==============================] - 2s 36us/step - loss: 0.2555 - acc: 0.9261 - val_loss: 0.2677 - val_acc: 0.9236\n",
      "Epoch 14/30\n",
      "60000/60000 [==============================] - 2s 36us/step - loss: 0.2519 - acc: 0.9275 - val_loss: 0.2664 - val_acc: 0.9239\n",
      "Epoch 15/30\n",
      "60000/60000 [==============================] - 2s 37us/step - loss: 0.2483 - acc: 0.9288 - val_loss: 0.2667 - val_acc: 0.9249\n",
      "Epoch 16/30\n",
      "60000/60000 [==============================] - 2s 38us/step - loss: 0.2455 - acc: 0.9293 - val_loss: 0.2633 - val_acc: 0.9261\n",
      "Epoch 17/30\n",
      "60000/60000 [==============================] - 2s 38us/step - loss: 0.2427 - acc: 0.9302 - val_loss: 0.2639 - val_acc: 0.9261\n",
      "Epoch 18/30\n",
      "60000/60000 [==============================] - 2s 38us/step - loss: 0.2402 - acc: 0.9313 - val_loss: 0.2611 - val_acc: 0.9270\n",
      "Epoch 19/30\n",
      "60000/60000 [==============================] - 2s 41us/step - loss: 0.2379 - acc: 0.9316 - val_loss: 0.2641 - val_acc: 0.9259\n",
      "Epoch 20/30\n",
      "60000/60000 [==============================] - 2s 41us/step - loss: 0.2359 - acc: 0.9319 - val_loss: 0.2599 - val_acc: 0.9286\n",
      "Epoch 21/30\n",
      "60000/60000 [==============================] - 2s 36us/step - loss: 0.2342 - acc: 0.9330 - val_loss: 0.2579 - val_acc: 0.9276\n",
      "Epoch 22/30\n",
      "60000/60000 [==============================] - 3s 44us/step - loss: 0.2321 - acc: 0.9338 - val_loss: 0.2603 - val_acc: 0.9256\n",
      "Epoch 23/30\n",
      "60000/60000 [==============================] - 3s 45us/step - loss: 0.2308 - acc: 0.9336 - val_loss: 0.2598 - val_acc: 0.9275\n",
      "Epoch 24/30\n",
      "60000/60000 [==============================] - 3s 44us/step - loss: 0.2288 - acc: 0.9345 - val_loss: 0.2589 - val_acc: 0.9269\n",
      "Epoch 25/30\n",
      "60000/60000 [==============================] - 2s 39us/step - loss: 0.2271 - acc: 0.9350 - val_loss: 0.2599 - val_acc: 0.9259\n",
      "Epoch 26/30\n",
      "60000/60000 [==============================] - 3s 58us/step - loss: 0.2261 - acc: 0.9349 - val_loss: 0.2588 - val_acc: 0.9275\n",
      "Epoch 27/30\n",
      "60000/60000 [==============================] - 3s 47us/step - loss: 0.2241 - acc: 0.9358 - val_loss: 0.2572 - val_acc: 0.9276\n",
      "Epoch 28/30\n",
      "60000/60000 [==============================] - 3s 42us/step - loss: 0.2234 - acc: 0.9358 - val_loss: 0.2582 - val_acc: 0.9272\n",
      "Epoch 29/30\n",
      "60000/60000 [==============================] - 3s 43us/step - loss: 0.2219 - acc: 0.9365 - val_loss: 0.2577 - val_acc: 0.9282\n",
      "Epoch 30/30\n",
      "60000/60000 [==============================] - 3s 44us/step - loss: 0.2212 - acc: 0.9372 - val_loss: 0.2578 - val_acc: 0.9268\n"
     ]
    }
   ],
   "source": [
    "history = model.fit(X_train, y_train,\n",
    "                    batch_size=batch_size,\n",
    "                    epochs=epochs,\n",
    "                    verbose=1,\n",
    "                    validation_data=(X_test, y_test))\n",
    "score = model.evaluate(X_test, y_test, verbose=0, batch_size=batch_size,)"
   ]
  },
  {
   "cell_type": "code",
   "execution_count": 344,
   "metadata": {},
   "outputs": [
    {
     "data": {
      "image/png": "[encoded data removed]",
      "text/plain": [
       "<Figure size 432x288 with 1 Axes>"
      ]
     },
     "metadata": {
      "needs_background": "light"
     },
     "output_type": "display_data"
    }
   ],
   "source": [
    "plt.plot(history.history['acc'])\n",
    "plt.plot(history.history['val_acc'])\n",
    "plt.title('model accuracy')\n",
    "plt.ylabel('accuracy')\n",
    "plt.xlabel('epoch')\n",
    "plt.legend(['train', 'test'], loc='upper left')\n",
    "plt.show()"
   ]
  },
  {
   "cell_type": "code",
   "execution_count": 345,
   "metadata": {},
   "outputs": [
    {
     "name": "stdout",
     "output_type": "stream",
     "text": [
      "Test loss: 0.010616814819537104\n",
      "Test accuracy: 0.9313\n"
     ]
    }
   ],
   "source": [
    "print('Test loss:', score[0])\n",
    "print('Test accuracy:', score[1])"
   ]
  },
  {
   "cell_type": "code",
   "execution_count": 346,
   "metadata": {},
   "outputs": [
    {
     "data": {
      "image/png": "[encoded data removed]",
      "text/plain": [
       "<Figure size 432x288 with 1 Axes>"
      ]
     },
     "metadata": {
      "needs_background": "light"
     },
     "output_type": "display_data"
    }
   ],
   "source": [
    "plt.plot(history.history['loss'])\n",
    "plt.plot(history.history['val_loss'])\n",
    "plt.title('model loss')\n",
    "plt.ylabel('loss')\n",
    "plt.xlabel('epoch')\n",
    "plt.legend(['train', 'test'], loc='upper left')\n",
    "plt.show()"
   ]
  },
  {
   "cell_type": "code",
   "execution_count": 348,
   "metadata": {},
   "outputs": [
    {
     "data": {
      "text/plain": [
       "imageio.core.util.Array"
      ]
     },
     "execution_count": 348,
     "metadata": {},
     "output_type": "execute_result"
    }
   ],
   "source": [
    "import imageio\n",
    "three = imageio.imread('numbers/three.bmp')\n",
    "type(three)"
   ]
  },
  {
   "cell_type": "markdown",
   "metadata": {},
   "source": [
    "### Guess numbers from pictures:"
   ]
  },
  {
   "cell_type": "code",
   "execution_count": 349,
   "metadata": {},
   "outputs": [],
   "source": [
    "def draw_n_tell(filename=\"\"):\n",
    "    \"\"\" Returns the predicted number for a given bitmap file.\n",
    "    Data must be stored as 28x28x8 bit values. Files need be stored in numbers subfolder and called without extension. \"\"\"\n",
    "    num = imageio.imread(f\"numbers/{filename}.bmp\")\n",
    "    num = 255-num\n",
    "    num_l = num.reshape(784,1).astype('float32').T\n",
    "#    print(model.predict(num_l).round(2))\n",
    "    plt.imshow(num, cmap=plt.cm.Blues)\n",
    "    accuracy = ((max(max(model.predict(num_l))))*100).round(2)\n",
    "#    print(model.predict(num_l))\n",
    "    pred_val = np.argmax(model.predict(num_l))\n",
    "#    print(model.predict(num_l).sum())\n",
    "#    dic = {0:\"\" , 1:\"\" ,2:\"2\" ,3:\"0\" ,4:\"\" ,5:\"5\" ,6:\"8\" ,7: \"4\" ,8:\"1\" ,9:\"9\" }\n",
    "    print(f\"I am {accuracy}% sure this is a \" f\"{pred_val}. But then, I'm just a neural network trained on the MNIST dataset.\")\n",
    "#    plt.axis('on')"
   ]
  },
  {
   "cell_type": "code",
   "execution_count": 362,
   "metadata": {},
   "outputs": [
    {
     "name": "stdout",
     "output_type": "stream",
     "text": [
      "I am 98.47% sure this is a 3. But then, I'm just a neural network trained on the MNIST dataset.\n"
     ]
    },
    {
     "data": {
      "image/png": "[encoded data removed]",
      "text/plain": [
       "<Figure size 432x288 with 1 Axes>"
      ]
     },
     "metadata": {
      "needs_background": "light"
     },
     "output_type": "display_data"
    }
   ],
   "source": [
    "draw_n_tell(\"zero\")"
   ]
  },
  {
   "cell_type": "markdown",
   "metadata": {},
   "source": [
    "### "
   ]
  },
  {
   "cell_type": "code",
   "execution_count": null,
   "metadata": {},
   "outputs": [],
   "source": []
  }
 ],
 "metadata": {
  "kernelspec": {
   "display_name": "Python 3",
   "language": "python",
   "name": "python3"
  },
  "language_info": {
   "codemirror_mode": {
    "name": "ipython",
    "version": 3
   },
   "file_extension": ".py",
   "mimetype": "text/x-python",
   "name": "python",
   "nbconvert_exporter": "python",
   "pygments_lexer": "ipython3",
   "version": "3.6.8"
  }
 },
 "nbformat": 4,
 "nbformat_minor": 2
}
